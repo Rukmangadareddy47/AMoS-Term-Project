{
 "cells": [
  {
   "attachments": {
    "image.png": {
     "image/png": "[encoded data removed]"
    }
   },
   "cell_type": "markdown",
   "id": "4f78b3eb",
   "metadata": {},
   "source": [
    "# Cantilever With point load at mid point\n",
    "![image.png](attachment:image.png)"
   ]
  },
  {
   "cell_type": "code",
   "execution_count": 1,
   "id": "500a1b01",
   "metadata": {},
   "outputs": [],
   "source": [
    "import sympy as sym\n",
    "from sympy import DiracDelta\n",
    "from sympy import Piecewise"
   ]
  },
  {
   "cell_type": "code",
   "execution_count": 10,
   "id": "87653239",
   "metadata": {},
   "outputs": [],
   "source": [
    "x=sym.symbols('x')\n",
    "a, L, P, E,I,M_0=sym.symbols('a,L,P,E,I,M_0',positive=True)\n",
    "w=sym.Function('w')(x)"
   ]
  },
  {
   "cell_type": "code",
   "execution_count": 4,
   "id": "6a312551",
   "metadata": {},
   "outputs": [
    {
     "data": {
      "text/latex": [
       "$\\displaystyle \\frac{P}{E I}$"
      ],
      "text/plain": [
       "P/(E*I)"
      ]
     },
     "execution_count": 4,
     "metadata": {},
     "output_type": "execute_result"
    }
   ],
   "source": [
    "load = P/(E*I)\n",
    "load"
   ]
  },
  {
   "cell_type": "code",
   "execution_count": 5,
   "id": "c54322b7",
   "metadata": {},
   "outputs": [
    {
     "data": {
      "text/latex": [
       "$\\displaystyle \\frac{d^{4}}{d x^{4}} w{\\left(x \\right)} = \\frac{P}{E I}$"
      ],
      "text/plain": [
       "Eq(Derivative(w(x), (x, 4)), P/(E*I))"
      ]
     },
     "execution_count": 5,
     "metadata": {},
     "output_type": "execute_result"
    }
   ],
   "source": [
    "eq = sym.Eq(sym.diff(w,(x,4)),load)\n",
    "eq"
   ]
  },
  {
   "cell_type": "code",
   "execution_count": 6,
   "id": "9d84c2a1",
   "metadata": {},
   "outputs": [
    {
     "data": {
      "text/latex": [
       "$\\displaystyle C_{1} + C_{2} x + C_{3} x^{2} + C_{4} x^{3} + \\frac{P x^{4}}{24 E I}$"
      ],
      "text/plain": [
       "C1 + C2*x + C3*x**2 + C4*x**3 + P*x**4/(24*E*I)"
      ]
     },
     "execution_count": 6,
     "metadata": {},
     "output_type": "execute_result"
    }
   ],
   "source": [
    "soln0=sym.dsolve(eq)\n",
    "soln1=soln0.rewrite(Piecewise).simplify()\n",
    "wsoln_interim=soln1.rhs\n",
    "wsoln_interim"
   ]
  },
  {
   "cell_type": "code",
   "execution_count": 7,
   "id": "1cc58014",
   "metadata": {},
   "outputs": [
    {
     "data": {
      "text/latex": [
       "$\\displaystyle C_{1} = 0$"
      ],
      "text/plain": [
       "Eq(C1, 0)"
      ]
     },
     "metadata": {},
     "output_type": "display_data"
    }
   ],
   "source": [
    "bc1_lhs = wsoln_interim.subs(x,0)\n",
    "bc1_rhs=0\n",
    "bc1_eq=sym.Eq(bc1_lhs,bc1_rhs)\n",
    "display(bc1_eq)"
   ]
  },
  {
   "cell_type": "code",
   "execution_count": 8,
   "id": "68f41292",
   "metadata": {},
   "outputs": [
    {
     "data": {
      "text/latex": [
       "$\\displaystyle 6 C_{4} + \\frac{L P}{E I} = 0$"
      ],
      "text/plain": [
       "Eq(6*C4 + L*P/(E*I), 0)"
      ]
     },
     "metadata": {},
     "output_type": "display_data"
    }
   ],
   "source": [
    "bc2_lhs = sym.diff(wsoln_interim,(x,3)).subs(x,L)\n",
    "bc2_rhs=0\n",
    "bc2_eq=sym.Eq(bc2_lhs,bc2_rhs)\n",
    "display(bc2_eq)"
   ]
  },
  {
   "cell_type": "code",
   "execution_count": 9,
   "id": "c461f445",
   "metadata": {},
   "outputs": [
    {
     "data": {
      "text/latex": [
       "$\\displaystyle C_{2} = 0$"
      ],
      "text/plain": [
       "Eq(C2, 0)"
      ]
     },
     "metadata": {},
     "output_type": "display_data"
    }
   ],
   "source": [
    "bc3_lhs = sym.diff(wsoln_interim,x).subs(x,0)\n",
    "bc3_rhs=0\n",
    "bc3_eq=sym.Eq(bc3_lhs,bc3_rhs)\n",
    "display(bc3_eq)"
   ]
  },
  {
   "cell_type": "code",
   "execution_count": 22,
   "id": "11887abb",
   "metadata": {},
   "outputs": [
    {
     "data": {
      "text/latex": [
       "$\\displaystyle 2 C_{3} + 6 C_{4} L + \\frac{L^{2} P}{2 E I} - \\frac{M_{0}}{E I} = 0$"
      ],
      "text/plain": [
       "Eq(2*C3 + 6*C4*L + L**2*P/(2*E*I) - M_0/(E*I), 0)"
      ]
     },
     "metadata": {},
     "output_type": "display_data"
    }
   ],
   "source": [
    "bc4_lhs = sym.diff(wsoln_interim,(x,2)).subs(x,L)-M_0/(E*I)\n",
    "bc4_rhs=0\n",
    "bc4_eq=sym.Eq(bc4_lhs,bc4_rhs)\n",
    "display(bc4_eq)"
   ]
  },
  {
   "cell_type": "code",
   "execution_count": 23,
   "id": "9ad6124b",
   "metadata": {},
   "outputs": [
    {
     "data": {
      "text/plain": [
       "{C1: 0, C3: (L**2*P + 2*M_0)/(4*E*I), C4: -L*P/(6*E*I), C2: 0}"
      ]
     },
     "metadata": {},
     "output_type": "display_data"
    }
   ],
   "source": [
    "constants = sym.solve([bc1_lhs,bc2_lhs,bc3_lhs,bc4_lhs])\n",
    "display(constants)"
   ]
  },
  {
   "cell_type": "code",
   "execution_count": 25,
   "id": "a89ede1d",
   "metadata": {},
   "outputs": [
    {
     "data": {
      "text/latex": [
       "$\\displaystyle \\frac{M_{0} x^{2}}{2 E I}$"
      ],
      "text/plain": [
       "M_0*x**2/(2*E*I)"
      ]
     },
     "execution_count": 25,
     "metadata": {},
     "output_type": "execute_result"
    }
   ],
   "source": [
    "wsoln_interim.subs(constants).simplify().subs(P,0)"
   ]
  },
  {
   "cell_type": "code",
   "execution_count": null,
   "id": "74c8ab58",
   "metadata": {},
   "outputs": [],
   "source": []
  }
 ],
 "metadata": {
  "kernelspec": {
   "display_name": "Python 3 (ipykernel)",
   "language": "python",
   "name": "python3"
  },
  "language_info": {
   "codemirror_mode": {
    "name": "ipython",
    "version": 3
   },
   "file_extension": ".py",
   "mimetype": "text/x-python",
   "name": "python",
   "nbconvert_exporter": "python",
   "pygments_lexer": "ipython3",
   "version": "3.8.0"
  }
 },
 "nbformat": 4,
 "nbformat_minor": 5
}
